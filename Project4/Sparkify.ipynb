{
 "cells": [
  {
   "cell_type": "markdown",
   "metadata": {},
   "source": [
    "# Sparkify Project Workspace\n",
    "This workspace contains a tiny subset (128MB) of the full dataset available (12GB). Feel free to use this workspace to build your project, or to explore a smaller subset with Spark before deploying your cluster on the cloud. Instructions for setting up your Spark cluster is included in the last lesson of the Extracurricular Spark Course content.\n",
    "\n",
    "You can follow the steps below to guide your data analysis and model building portion of this project."
   ]
  },
  {
   "cell_type": "code",
   "execution_count": 1,
   "metadata": {},
   "outputs": [],
   "source": [
    "# import libraries\n",
    "import pyspark\n",
    "from pyspark import SparkConf\n",
    "from pyspark.sql import SparkSession\n",
    "\n",
    "\n",
    "from pyspark.sql import SparkSession, Window\n",
    "from pyspark.sql.functions import avg, stddev, split, udf, isnull, first, col, format_number, rand, countDistinct,count, trim\n",
    "from pyspark.sql.functions import min as fmin\n",
    "from pyspark.sql.functions import max as fmax\n",
    "from pyspark.sql.functions import sum as fsum\n",
    "from pyspark.sql.types import IntegerType, FloatType,StringType\n",
    "\n",
    "import pyspark.sql.functions as f\n",
    "\n",
    "from pyspark.ml import Pipeline\n",
    "from pyspark.ml.classification import LogisticRegression, DecisionTreeClassifier,RandomForestClassifier, LinearSVC, GBTClassifier\n",
    "from pyspark.ml.feature import StandardScaler, VectorAssembler,Normalizer, MinMaxScaler, VectorAssembler\n",
    "from pyspark.ml.evaluation import MulticlassClassificationEvaluator\n",
    "from pyspark.mllib.evaluation import MulticlassMetrics\n",
    "from pyspark.ml.tuning import CrossValidator, ParamGridBuilder\n",
    "\n",
    "\n",
    "\n",
    "import re\n",
    "import copy\n",
    "import time\n",
    "import datetime\n",
    "import numpy as np\n",
    "import pandas as pd\n",
    "import seaborn as sns\n",
    "import matplotlib.pyplot as plt"
   ]
  },
  {
   "cell_type": "code",
   "execution_count": 2,
   "metadata": {},
   "outputs": [
    {
     "data": {
      "text/html": [
       "\n",
       "            <div>\n",
       "                <p><b>SparkSession - in-memory</b></p>\n",
       "                \n",
       "        <div>\n",
       "            <p><b>SparkContext</b></p>\n",
       "\n",
       "            <p><a href=\"http://d41d366e77b5:4040\">Spark UI</a></p>\n",
       "\n",
       "            <dl>\n",
       "              <dt>Version</dt>\n",
       "                <dd><code>v2.4.3</code></dd>\n",
       "              <dt>Master</dt>\n",
       "                <dd><code>local[*]</code></dd>\n",
       "              <dt>AppName</dt>\n",
       "                <dd><code>Sparkify Customer Churn Project</code></dd>\n",
       "            </dl>\n",
       "        </div>\n",
       "        \n",
       "            </div>\n",
       "        "
      ],
      "text/plain": [
       "<pyspark.sql.session.SparkSession at 0x7f880269a8d0>"
      ]
     },
     "execution_count": 2,
     "metadata": {},
     "output_type": "execute_result"
    }
   ],
   "source": [
    "# create a Spark session\n",
    "\n",
    "spark = SparkSession \\\n",
    "    .builder \\\n",
    "    .appName(\"Sparkify Customer Churn Project\") \\\n",
    "    .getOrCreate()\n",
    "\n",
    "spark.sparkContext.getConf().getAll()\n",
    "\n",
    "spark"
   ]
  },
  {
   "cell_type": "markdown",
   "metadata": {},
   "source": [
    "# Load and Clean Dataset\n",
    "In this workspace, the mini-dataset file is `mini_sparkify_event_data.json`. Load and clean the dataset, checking for invalid or missing data - for example, records without userids or sessionids. "
   ]
  },
  {
   "cell_type": "code",
   "execution_count": 3,
   "metadata": {},
   "outputs": [],
   "source": [
    "path = \"/home/workspace/mini_sparkify_event_data.json\"\n",
    "sparkify_data = spark.read.json(path)"
   ]
  },
  {
   "cell_type": "code",
   "execution_count": 4,
   "metadata": {},
   "outputs": [
    {
     "name": "stdout",
     "output_type": "stream",
     "text": [
      "+----------------+---------+---------+------+-------------+--------+---------+-----+------------------------------+------+--------+-------------+---------+-----------------+------+-------------+---------------------------------------------------------------------------------------------------------------+------+\n",
      "|artist          |auth     |firstName|gender|itemInSession|lastName|length   |level|location                      |method|page    |registration |sessionId|song             |status|ts           |userAgent                                                                                                      |userId|\n",
      "+----------------+---------+---------+------+-------------+--------+---------+-----+------------------------------+------+--------+-------------+---------+-----------------+------+-------------+---------------------------------------------------------------------------------------------------------------+------+\n",
      "|Martha Tilston  |Logged In|Colin    |M     |50           |Freeman |277.89016|paid |Bakersfield, CA               |PUT   |NextSong|1538173362000|29       |Rockpools        |200   |1538352117000|Mozilla/5.0 (Windows NT 6.1; WOW64; rv:31.0) Gecko/20100101 Firefox/31.0                                       |30    |\n",
      "|Five Iron Frenzy|Logged In|Micah    |M     |79           |Long    |236.09424|free |Boston-Cambridge-Newton, MA-NH|PUT   |NextSong|1538331630000|8        |Canada           |200   |1538352180000|\"Mozilla/5.0 (Windows NT 6.1; WOW64) AppleWebKit/537.36 (KHTML, like Gecko) Chrome/37.0.2062.103 Safari/537.36\"|9     |\n",
      "|Adam Lambert    |Logged In|Colin    |M     |51           |Freeman |282.8273 |paid |Bakersfield, CA               |PUT   |NextSong|1538173362000|29       |Time For Miracles|200   |1538352394000|Mozilla/5.0 (Windows NT 6.1; WOW64; rv:31.0) Gecko/20100101 Firefox/31.0                                       |30    |\n",
      "+----------------+---------+---------+------+-------------+--------+---------+-----+------------------------------+------+--------+-------------+---------+-----------------+------+-------------+---------------------------------------------------------------------------------------------------------------+------+\n",
      "only showing top 3 rows\n",
      "\n"
     ]
    }
   ],
   "source": [
    "sparkify_data.show(n=3,truncate=False)"
   ]
  },
  {
   "cell_type": "code",
   "execution_count": 5,
   "metadata": {},
   "outputs": [
    {
     "name": "stdout",
     "output_type": "stream",
     "text": [
      "The total number of recs in original dataset is 286500\n"
     ]
    }
   ],
   "source": [
    "sparkify_data_count=sparkify_data.count()\n",
    "\n",
    "print(\"The total number of recs in original dataset is {}\".format(sparkify_data_count))"
   ]
  },
  {
   "cell_type": "code",
   "execution_count": 6,
   "metadata": {},
   "outputs": [
    {
     "name": "stdout",
     "output_type": "stream",
     "text": [
      "The total number of recs in dataset after removing duplicates based on user and session id is 286500\n"
     ]
    },
    {
     "data": {
      "text/plain": [
       "286500"
      ]
     },
     "execution_count": 6,
     "metadata": {},
     "output_type": "execute_result"
    }
   ],
   "source": [
    "sparkify_data_nonmiss=sparkify_data.dropna(how='any',subset=['sessionId','userId'])\n",
    "\n",
    "print(\"The total number of recs in dataset after removing duplicates based on user and session id is {}\".format(sparkify_data_count))\n",
    "sparkify_data_nonmiss.count()"
   ]
  },
  {
   "cell_type": "code",
   "execution_count": 7,
   "metadata": {},
   "outputs": [
    {
     "name": "stdout",
     "output_type": "stream",
     "text": [
      "The total number of recs in dataset after removing blank on userid is 278154\n"
     ]
    }
   ],
   "source": [
    "sparkify_data_valid=sparkify_data_nonmiss.filter(sparkify_data_nonmiss['userId']!=\"\")\n",
    "sparkify_data_valid_count=sparkify_data_valid.count()\n",
    "\n",
    "print(\"The total number of recs in dataset after removing blank on userid is {}\".format(sparkify_data_valid_count))\n"
   ]
  },
  {
   "cell_type": "code",
   "execution_count": 8,
   "metadata": {},
   "outputs": [],
   "source": [
    "# Create a user defined function for formating the timestamp\n",
    "get_time = udf(lambda x: datetime.datetime.fromtimestamp(x / 1000.0).strftime(\"%Y-%m-%d %H:%M:%S\"))\n",
    "\n",
    "#Apply the udf on the ts column\n",
    "sparkify_data_valid = sparkify_data_valid.withColumn(\"time\", get_time(sparkify_data_valid.ts))\n"
   ]
  },
  {
   "cell_type": "code",
   "execution_count": 9,
   "metadata": {},
   "outputs": [
    {
     "name": "stdout",
     "output_type": "stream",
     "text": [
      "The total number of Unique Users in dataset is 225\n",
      "The total number of Unique SessionIds in dataset is 2312\n",
      "The total number of Unique Pages in dataset is 19\n"
     ]
    }
   ],
   "source": [
    "user_ids=sparkify_data_valid.select('userId').dropDuplicates().count()\n",
    "\n",
    "print(\"The total number of Unique Users in dataset is {}\".format(user_ids))\n",
    "\n",
    "\n",
    "session_ids=sparkify_data_valid.select('sessionId').dropDuplicates().count()\n",
    "\n",
    "print(\"The total number of Unique SessionIds in dataset is {}\".format(session_ids))\n",
    "\n",
    "pages=sparkify_data_valid.select('page').dropDuplicates().count()\n",
    "\n",
    "print(\"The total number of Unique Pages in dataset is {}\".format(pages))"
   ]
  },
  {
   "cell_type": "markdown",
   "metadata": {},
   "source": [
    "# Exploratory Data Analysis\n",
    "When you're working with the full dataset, perform EDA by loading a small subset of the data and doing basic manipulations within Spark. In this workspace, you are already provided a small subset of data you can explore.\n",
    "\n",
    "### Define Churn\n",
    "\n",
    "Once you've done some preliminary analysis, create a column `Churn` to use as the label for your model. I suggest using the `Cancellation Confirmation` events to define your churn, which happen for both paid and free users. As a bonus task, you can also look into the `Downgrade` events.\n",
    "\n",
    "### Explore Data\n",
    "Once you've defined churn, perform some exploratory data analysis to observe the behavior for users who stayed vs users who churned. You can start by exploring aggregates on these two groups of users, observing how much of a specific action they experienced per a certain time unit or number of songs played."
   ]
  },
  {
   "cell_type": "code",
   "execution_count": 10,
   "metadata": {},
   "outputs": [],
   "source": [
    "#Churn Definition\n",
    "churn_def=udf(lambda x: 1 if x == \"Cancellation Confirmation\" else 0, IntegerType())\n",
    "# apply to the dataframe\n",
    "df = sparkify_data_valid.withColumn(\"churn\", churn_def(\"page\"))\n",
    "#Define window bounds\n",
    "windowval = Window.partitionBy(\"userId\").rangeBetween(Window.unboundedPreceding, Window.unboundedFollowing)\n",
    "# Applying the window\n",
    "df = df.withColumn(\"churn\", fsum(\"churn\").over(windowval))"
   ]
  },
  {
   "cell_type": "code",
   "execution_count": 11,
   "metadata": {},
   "outputs": [],
   "source": [
    "df_pandas=df.toPandas()"
   ]
  },
  {
   "cell_type": "code",
   "execution_count": 12,
   "metadata": {},
   "outputs": [
    {
     "data": {
      "text/html": [
       "<div>\n",
       "<style scoped>\n",
       "    .dataframe tbody tr th:only-of-type {\n",
       "        vertical-align: middle;\n",
       "    }\n",
       "\n",
       "    .dataframe tbody tr th {\n",
       "        vertical-align: top;\n",
       "    }\n",
       "\n",
       "    .dataframe thead th {\n",
       "        text-align: right;\n",
       "    }\n",
       "</style>\n",
       "<table border=\"1\" class=\"dataframe\">\n",
       "  <thead>\n",
       "    <tr style=\"text-align: right;\">\n",
       "      <th></th>\n",
       "      <th>artist</th>\n",
       "      <th>auth</th>\n",
       "      <th>firstName</th>\n",
       "      <th>gender</th>\n",
       "      <th>itemInSession</th>\n",
       "      <th>lastName</th>\n",
       "      <th>length</th>\n",
       "      <th>level</th>\n",
       "      <th>location</th>\n",
       "      <th>method</th>\n",
       "      <th>page</th>\n",
       "      <th>registration</th>\n",
       "      <th>sessionId</th>\n",
       "      <th>song</th>\n",
       "      <th>status</th>\n",
       "      <th>ts</th>\n",
       "      <th>userAgent</th>\n",
       "      <th>userId</th>\n",
       "      <th>time</th>\n",
       "      <th>churn</th>\n",
       "    </tr>\n",
       "  </thead>\n",
       "  <tbody>\n",
       "    <tr>\n",
       "      <th>0</th>\n",
       "      <td>Sleeping With Sirens</td>\n",
       "      <td>Logged In</td>\n",
       "      <td>Darianna</td>\n",
       "      <td>F</td>\n",
       "      <td>0</td>\n",
       "      <td>Carpenter</td>\n",
       "      <td>202.97098</td>\n",
       "      <td>free</td>\n",
       "      <td>Bridgeport-Stamford-Norwalk, CT</td>\n",
       "      <td>PUT</td>\n",
       "      <td>NextSong</td>\n",
       "      <td>1538016340000</td>\n",
       "      <td>31</td>\n",
       "      <td>Captain Tyin Knots VS Mr Walkway (No Way)</td>\n",
       "      <td>200</td>\n",
       "      <td>1539003534000</td>\n",
       "      <td>\"Mozilla/5.0 (iPhone; CPU iPhone OS 7_1_2 like...</td>\n",
       "      <td>100010</td>\n",
       "      <td>2018-10-08 12:58:54</td>\n",
       "      <td>0</td>\n",
       "    </tr>\n",
       "    <tr>\n",
       "      <th>1</th>\n",
       "      <td>Francesca Battistelli</td>\n",
       "      <td>Logged In</td>\n",
       "      <td>Darianna</td>\n",
       "      <td>F</td>\n",
       "      <td>1</td>\n",
       "      <td>Carpenter</td>\n",
       "      <td>196.54485</td>\n",
       "      <td>free</td>\n",
       "      <td>Bridgeport-Stamford-Norwalk, CT</td>\n",
       "      <td>PUT</td>\n",
       "      <td>NextSong</td>\n",
       "      <td>1538016340000</td>\n",
       "      <td>31</td>\n",
       "      <td>Beautiful_ Beautiful (Album)</td>\n",
       "      <td>200</td>\n",
       "      <td>1539003736000</td>\n",
       "      <td>\"Mozilla/5.0 (iPhone; CPU iPhone OS 7_1_2 like...</td>\n",
       "      <td>100010</td>\n",
       "      <td>2018-10-08 13:02:16</td>\n",
       "      <td>0</td>\n",
       "    </tr>\n",
       "    <tr>\n",
       "      <th>2</th>\n",
       "      <td>Brutha</td>\n",
       "      <td>Logged In</td>\n",
       "      <td>Darianna</td>\n",
       "      <td>F</td>\n",
       "      <td>2</td>\n",
       "      <td>Carpenter</td>\n",
       "      <td>263.13098</td>\n",
       "      <td>free</td>\n",
       "      <td>Bridgeport-Stamford-Norwalk, CT</td>\n",
       "      <td>PUT</td>\n",
       "      <td>NextSong</td>\n",
       "      <td>1538016340000</td>\n",
       "      <td>31</td>\n",
       "      <td>She's Gone</td>\n",
       "      <td>200</td>\n",
       "      <td>1539003932000</td>\n",
       "      <td>\"Mozilla/5.0 (iPhone; CPU iPhone OS 7_1_2 like...</td>\n",
       "      <td>100010</td>\n",
       "      <td>2018-10-08 13:05:32</td>\n",
       "      <td>0</td>\n",
       "    </tr>\n",
       "    <tr>\n",
       "      <th>3</th>\n",
       "      <td>None</td>\n",
       "      <td>Logged In</td>\n",
       "      <td>Darianna</td>\n",
       "      <td>F</td>\n",
       "      <td>3</td>\n",
       "      <td>Carpenter</td>\n",
       "      <td>NaN</td>\n",
       "      <td>free</td>\n",
       "      <td>Bridgeport-Stamford-Norwalk, CT</td>\n",
       "      <td>PUT</td>\n",
       "      <td>Thumbs Up</td>\n",
       "      <td>1538016340000</td>\n",
       "      <td>31</td>\n",
       "      <td>None</td>\n",
       "      <td>307</td>\n",
       "      <td>1539003933000</td>\n",
       "      <td>\"Mozilla/5.0 (iPhone; CPU iPhone OS 7_1_2 like...</td>\n",
       "      <td>100010</td>\n",
       "      <td>2018-10-08 13:05:33</td>\n",
       "      <td>0</td>\n",
       "    </tr>\n",
       "    <tr>\n",
       "      <th>4</th>\n",
       "      <td>Josh Ritter</td>\n",
       "      <td>Logged In</td>\n",
       "      <td>Darianna</td>\n",
       "      <td>F</td>\n",
       "      <td>4</td>\n",
       "      <td>Carpenter</td>\n",
       "      <td>316.23791</td>\n",
       "      <td>free</td>\n",
       "      <td>Bridgeport-Stamford-Norwalk, CT</td>\n",
       "      <td>PUT</td>\n",
       "      <td>NextSong</td>\n",
       "      <td>1538016340000</td>\n",
       "      <td>31</td>\n",
       "      <td>Folk Bloodbath</td>\n",
       "      <td>200</td>\n",
       "      <td>1539004195000</td>\n",
       "      <td>\"Mozilla/5.0 (iPhone; CPU iPhone OS 7_1_2 like...</td>\n",
       "      <td>100010</td>\n",
       "      <td>2018-10-08 13:09:55</td>\n",
       "      <td>0</td>\n",
       "    </tr>\n",
       "  </tbody>\n",
       "</table>\n",
       "</div>"
      ],
      "text/plain": [
       "                  artist       auth firstName gender  itemInSession  \\\n",
       "0   Sleeping With Sirens  Logged In  Darianna      F              0   \n",
       "1  Francesca Battistelli  Logged In  Darianna      F              1   \n",
       "2                 Brutha  Logged In  Darianna      F              2   \n",
       "3                   None  Logged In  Darianna      F              3   \n",
       "4            Josh Ritter  Logged In  Darianna      F              4   \n",
       "\n",
       "    lastName     length level                         location method  \\\n",
       "0  Carpenter  202.97098  free  Bridgeport-Stamford-Norwalk, CT    PUT   \n",
       "1  Carpenter  196.54485  free  Bridgeport-Stamford-Norwalk, CT    PUT   \n",
       "2  Carpenter  263.13098  free  Bridgeport-Stamford-Norwalk, CT    PUT   \n",
       "3  Carpenter        NaN  free  Bridgeport-Stamford-Norwalk, CT    PUT   \n",
       "4  Carpenter  316.23791  free  Bridgeport-Stamford-Norwalk, CT    PUT   \n",
       "\n",
       "        page   registration  sessionId  \\\n",
       "0   NextSong  1538016340000         31   \n",
       "1   NextSong  1538016340000         31   \n",
       "2   NextSong  1538016340000         31   \n",
       "3  Thumbs Up  1538016340000         31   \n",
       "4   NextSong  1538016340000         31   \n",
       "\n",
       "                                        song  status             ts  \\\n",
       "0  Captain Tyin Knots VS Mr Walkway (No Way)     200  1539003534000   \n",
       "1               Beautiful_ Beautiful (Album)     200  1539003736000   \n",
       "2                                 She's Gone     200  1539003932000   \n",
       "3                                       None     307  1539003933000   \n",
       "4                             Folk Bloodbath     200  1539004195000   \n",
       "\n",
       "                                           userAgent  userId  \\\n",
       "0  \"Mozilla/5.0 (iPhone; CPU iPhone OS 7_1_2 like...  100010   \n",
       "1  \"Mozilla/5.0 (iPhone; CPU iPhone OS 7_1_2 like...  100010   \n",
       "2  \"Mozilla/5.0 (iPhone; CPU iPhone OS 7_1_2 like...  100010   \n",
       "3  \"Mozilla/5.0 (iPhone; CPU iPhone OS 7_1_2 like...  100010   \n",
       "4  \"Mozilla/5.0 (iPhone; CPU iPhone OS 7_1_2 like...  100010   \n",
       "\n",
       "                  time  churn  \n",
       "0  2018-10-08 12:58:54      0  \n",
       "1  2018-10-08 13:02:16      0  \n",
       "2  2018-10-08 13:05:32      0  \n",
       "3  2018-10-08 13:05:33      0  \n",
       "4  2018-10-08 13:09:55      0  "
      ]
     },
     "execution_count": 12,
     "metadata": {},
     "output_type": "execute_result"
    }
   ],
   "source": [
    "df_pandas.head(5)"
   ]
  },
  {
   "cell_type": "code",
   "execution_count": 13,
   "metadata": {},
   "outputs": [],
   "source": [
    "def barplot_visualize(x_label,y_label,df,title):\n",
    "    '''\n",
    "        Plots a seaborn barchart based on the inputs provided\n",
    "        input: \n",
    "            x_lable - Values to be displayed on x-axis\n",
    "            y_label - Values to be displayed on y-axis\n",
    "            df - Data to be plotted\n",
    "        outut: None\n",
    "    '''\n",
    "    sns.set(style=\"whitegrid\")\n",
    "    plt.figure(figsize=(10, 6))\n",
    "    plt.title(title,fontsize= 16)\n",
    "    ax = sns.barplot(y=y_label, x=x_label, data=df.toPandas())"
   ]
  },
  {
   "cell_type": "code",
   "execution_count": 14,
   "metadata": {},
   "outputs": [
    {
     "name": "stdout",
     "output_type": "stream",
     "text": [
      "+-----+-----+\n",
      "|Churn|Users|\n",
      "+-----+-----+\n",
      "|    0|  173|\n",
      "|    1|   52|\n",
      "+-----+-----+\n",
      "\n"
     ]
    },
    {
     "data": {
      "image/png": "[encoded data removed]",
      "text/plain": [
       "<matplotlib.figure.Figure at 0x7f87f4ea4198>"
      ]
     },
     "metadata": {},
     "output_type": "display_data"
    }
   ],
   "source": [
    "#Distribution of users by Churn Type\n",
    "churn_counts = df.groupBy(\"Churn\").agg(countDistinct(\"userId\").alias(\"Users\"))\n",
    "churn_counts.show()\n",
    "barplot_visualize(x_label=\"Churn\",y_label=\"Users\",df=churn_counts,title='Distribution of Users by Churn Type')"
   ]
  },
  {
   "cell_type": "markdown",
   "metadata": {},
   "source": [
    "Out of 225, 52 users were identified to be churned; this is about 24% of the universe."
   ]
  },
  {
   "cell_type": "code",
   "execution_count": 15,
   "metadata": {},
   "outputs": [
    {
     "name": "stdout",
     "output_type": "stream",
     "text": [
      "+------+-----+\n",
      "|Gender|Users|\n",
      "+------+-----+\n",
      "|     F|  104|\n",
      "|     M|  121|\n",
      "+------+-----+\n",
      "\n"
     ]
    },
    {
     "data": {
      "image/png": "[encoded data removed]",
      "text/plain": [
       "<matplotlib.figure.Figure at 0x7f87f5e23cc0>"
      ]
     },
     "metadata": {},
     "output_type": "display_data"
    }
   ],
   "source": [
    "#Distribution of users by Gender Type\n",
    "gender_counts = df.groupBy(\"Gender\").agg(countDistinct(\"userId\").alias(\"Users\"))\n",
    "gender_counts.show()\n",
    "barplot_visualize(x_label=\"Gender\",y_label=\"Users\",df=gender_counts,title='Distribution of Users by Gender')"
   ]
  },
  {
   "cell_type": "markdown",
   "metadata": {},
   "source": [
    "Out of 225, 121 users were identified to be male; this is about 54% of the universe."
   ]
  },
  {
   "cell_type": "code",
   "execution_count": 16,
   "metadata": {},
   "outputs": [
    {
     "name": "stdout",
     "output_type": "stream",
     "text": [
      "+-----+-----+\n",
      "|Level|Users|\n",
      "+-----+-----+\n",
      "| free|  195|\n",
      "| paid|  165|\n",
      "+-----+-----+\n",
      "\n"
     ]
    },
    {
     "data": {
      "image/png": "[encoded data removed]",
      "text/plain": [
       "<matplotlib.figure.Figure at 0x7f87e92e7fd0>"
      ]
     },
     "metadata": {},
     "output_type": "display_data"
    }
   ],
   "source": [
    "level_counts = df.groupBy(\"Level\").agg(countDistinct(\"userId\").alias(\"Users\"))\n",
    "level_counts.show()\n",
    "barplot_visualize(x_label=\"Level\",y_label=\"Users\",df=level_counts,title='Distribution of Users by Level')"
   ]
  },
  {
   "cell_type": "markdown",
   "metadata": {},
   "source": [
    "Based on results seen above, a user may have the opportunity to first be a 'free' user and then a 'paid' user\n",
    "and vice-versa. It would make more sense to take a look at recent level."
   ]
  },
  {
   "cell_type": "code",
   "execution_count": 17,
   "metadata": {},
   "outputs": [
    {
     "data": {
      "text/plain": [
       "Text(0,0.5,'Users')"
      ]
     },
     "execution_count": 17,
     "metadata": {},
     "output_type": "execute_result"
    },
    {
     "data": {
      "image/png": "[encoded data removed]",
      "text/plain": [
       "<matplotlib.figure.Figure at 0x7f87f6053da0>"
      ]
     },
     "metadata": {},
     "output_type": "display_data"
    }
   ],
   "source": [
    "#Distribution of users by State\n",
    "split_col = f.split(df['location'], ',')\n",
    "df = df.withColumn('City', trim(split_col.getItem(0)))\\\n",
    "        .withColumn('State', trim(split_col.getItem(1)))\n",
    "\n",
    "state_count = df.groupBy(\"State\").agg(countDistinct(\"userId\").alias(\"Users\"))\\\n",
    "                .sort(col(\"Users\").desc())\n",
    "\n",
    "title = \"Distribution of Users by State\"\n",
    "\n",
    "sns.set(style=\"whitegrid\")\n",
    "\n",
    "plt.figure(figsize=(35, 15))\n",
    "plt.title(title,fontsize= 30)\n",
    "ax = sns.barplot(x=\"State\",y=\"Users\", data=state_count.toPandas())\n",
    "\n",
    "ax.set_xlabel(\"State\",fontsize=20)\n",
    "ax.set_ylabel(\"Users\",fontsize=20)"
   ]
  },
  {
   "cell_type": "markdown",
   "metadata": {},
   "source": [
    "The top 5 states that users of this service belong to are : California, Texas, New York, Florida and Arizona."
   ]
  },
  {
   "cell_type": "code",
   "execution_count": 18,
   "metadata": {},
   "outputs": [
    {
     "data": {
      "text/html": [
       "<div>\n",
       "<style scoped>\n",
       "    .dataframe tbody tr th:only-of-type {\n",
       "        vertical-align: middle;\n",
       "    }\n",
       "\n",
       "    .dataframe tbody tr th {\n",
       "        vertical-align: top;\n",
       "    }\n",
       "\n",
       "    .dataframe thead th {\n",
       "        text-align: right;\n",
       "    }\n",
       "</style>\n",
       "<table border=\"1\" class=\"dataframe\">\n",
       "  <thead>\n",
       "    <tr style=\"text-align: right;\">\n",
       "      <th></th>\n",
       "      <th>userAgent</th>\n",
       "      <th>Users</th>\n",
       "    </tr>\n",
       "  </thead>\n",
       "  <tbody>\n",
       "    <tr>\n",
       "      <th>0</th>\n",
       "      <td>\"Mozilla/5.0 (Windows NT 6.1; WOW64) AppleWebKit/537.36 (KHTML, like Gecko) Chrome/36.0.1985.143 Safari/537.36\"</td>\n",
       "      <td>24</td>\n",
       "    </tr>\n",
       "    <tr>\n",
       "      <th>1</th>\n",
       "      <td>Mozilla/5.0 (Windows NT 6.1; WOW64; rv:31.0) Gecko/20100101 Firefox/31.0</td>\n",
       "      <td>18</td>\n",
       "    </tr>\n",
       "    <tr>\n",
       "      <th>2</th>\n",
       "      <td>\"Mozilla/5.0 (Macintosh; Intel Mac OS X 10_9_4) AppleWebKit/537.36 (KHTML, like Gecko) Chrome/36.0.1985.125 Safari/537.36\"</td>\n",
       "      <td>16</td>\n",
       "    </tr>\n",
       "    <tr>\n",
       "      <th>3</th>\n",
       "      <td>\"Mozilla/5.0 (Macintosh; Intel Mac OS X 10_9_4) AppleWebKit/537.36 (KHTML, like Gecko) Chrome/36.0.1985.143 Safari/537.36\"</td>\n",
       "      <td>12</td>\n",
       "    </tr>\n",
       "    <tr>\n",
       "      <th>4</th>\n",
       "      <td>\"Mozilla/5.0 (Macintosh; Intel Mac OS X 10_9_4) AppleWebKit/537.77.4 (KHTML, like Gecko) Version/7.0.5 Safari/537.77.4\"</td>\n",
       "      <td>12</td>\n",
       "    </tr>\n",
       "    <tr>\n",
       "      <th>5</th>\n",
       "      <td>\"Mozilla/5.0 (Windows NT 6.1; WOW64) AppleWebKit/537.36 (KHTML, like Gecko) Chrome/36.0.1985.125 Safari/537.36\"</td>\n",
       "      <td>10</td>\n",
       "    </tr>\n",
       "    <tr>\n",
       "      <th>6</th>\n",
       "      <td>\"Mozilla/5.0 (Macintosh; Intel Mac OS X 10_9_4) AppleWebKit/537.78.2 (KHTML, like Gecko) Version/7.0.6 Safari/537.78.2\"</td>\n",
       "      <td>10</td>\n",
       "    </tr>\n",
       "    <tr>\n",
       "      <th>7</th>\n",
       "      <td>Mozilla/5.0 (Macintosh; Intel Mac OS X 10.9; rv:31.0) Gecko/20100101 Firefox/31.0</td>\n",
       "      <td>9</td>\n",
       "    </tr>\n",
       "    <tr>\n",
       "      <th>8</th>\n",
       "      <td>\"Mozilla/5.0 (iPhone; CPU iPhone OS 7_1_2 like Mac OS X) AppleWebKit/537.51.2 (KHTML, like Gecko) Version/7.0 Mobile/11D257 Safari/9537.53\"</td>\n",
       "      <td>8</td>\n",
       "    </tr>\n",
       "    <tr>\n",
       "      <th>9</th>\n",
       "      <td>\"Mozilla/5.0 (Windows NT 6.3; WOW64) AppleWebKit/537.36 (KHTML, like Gecko) Chrome/36.0.1985.143 Safari/537.36\"</td>\n",
       "      <td>7</td>\n",
       "    </tr>\n",
       "    <tr>\n",
       "      <th>10</th>\n",
       "      <td>\"Mozilla/5.0 (Macintosh; Intel Mac OS X 10_9_4) AppleWebKit/537.36 (KHTML, like Gecko) Chrome/37.0.2062.94 Safari/537.36\"</td>\n",
       "      <td>7</td>\n",
       "    </tr>\n",
       "    <tr>\n",
       "      <th>11</th>\n",
       "      <td>Mozilla/5.0 (Windows NT 6.1; WOW64; Trident/7.0; rv:11.0) like Gecko</td>\n",
       "      <td>7</td>\n",
       "    </tr>\n",
       "    <tr>\n",
       "      <th>12</th>\n",
       "      <td>\"Mozilla/5.0 (Windows NT 6.3; WOW64) AppleWebKit/537.36 (KHTML, like Gecko) Chrome/36.0.1985.125 Safari/537.36\"</td>\n",
       "      <td>5</td>\n",
       "    </tr>\n",
       "    <tr>\n",
       "      <th>13</th>\n",
       "      <td>\"Mozilla/5.0 (Windows NT 5.1) AppleWebKit/537.36 (KHTML, like Gecko) Chrome/36.0.1985.143 Safari/537.36\"</td>\n",
       "      <td>4</td>\n",
       "    </tr>\n",
       "    <tr>\n",
       "      <th>14</th>\n",
       "      <td>Mozilla/5.0 (Windows NT 6.3; WOW64; rv:31.0) Gecko/20100101 Firefox/31.0</td>\n",
       "      <td>4</td>\n",
       "    </tr>\n",
       "    <tr>\n",
       "      <th>15</th>\n",
       "      <td>\"Mozilla/5.0 (X11; Linux x86_64) AppleWebKit/537.36 (KHTML, like Gecko) Chrome/36.0.1985.143 Safari/537.36\"</td>\n",
       "      <td>4</td>\n",
       "    </tr>\n",
       "    <tr>\n",
       "      <th>16</th>\n",
       "      <td>\"Mozilla/5.0 (Windows NT 6.1) AppleWebKit/537.36 (KHTML, like Gecko) Chrome/36.0.1985.143 Safari/537.36\"</td>\n",
       "      <td>4</td>\n",
       "    </tr>\n",
       "    <tr>\n",
       "      <th>17</th>\n",
       "      <td>Mozilla/5.0 (X11; Ubuntu; Linux x86_64; rv:31.0) Gecko/20100101 Firefox/31.0</td>\n",
       "      <td>4</td>\n",
       "    </tr>\n",
       "    <tr>\n",
       "      <th>18</th>\n",
       "      <td>\"Mozilla/5.0 (Windows NT 6.1; WOW64) AppleWebKit/537.36 (KHTML, like Gecko) Chrome/37.0.2062.94 Safari/537.36\"</td>\n",
       "      <td>4</td>\n",
       "    </tr>\n",
       "    <tr>\n",
       "      <th>19</th>\n",
       "      <td>\"Mozilla/5.0 (iPhone; CPU iPhone OS 7_1 like Mac OS X) AppleWebKit/537.51.2 (KHTML, like Gecko) Version/7.0 Mobile/11D167 Safari/9537.53\"</td>\n",
       "      <td>4</td>\n",
       "    </tr>\n",
       "    <tr>\n",
       "      <th>20</th>\n",
       "      <td>Mozilla/5.0 (compatible; MSIE 9.0; Windows NT 6.1; WOW64; Trident/5.0)</td>\n",
       "      <td>3</td>\n",
       "    </tr>\n",
       "    <tr>\n",
       "      <th>21</th>\n",
       "      <td>\"Mozilla/5.0 (Windows NT 6.1; WOW64) AppleWebKit/537.36 (KHTML, like Gecko) Chrome/37.0.2062.103 Safari/537.36\"</td>\n",
       "      <td>3</td>\n",
       "    </tr>\n",
       "    <tr>\n",
       "      <th>22</th>\n",
       "      <td>Mozilla/5.0 (Windows NT 6.1; rv:31.0) Gecko/20100101 Firefox/31.0</td>\n",
       "      <td>3</td>\n",
       "    </tr>\n",
       "    <tr>\n",
       "      <th>23</th>\n",
       "      <td>\"Mozilla/5.0 (Macintosh; Intel Mac OS X 10_9_4) AppleWebKit/537.36 (KHTML, like Gecko) Chrome/35.0.1916.153 Safari/537.36\"</td>\n",
       "      <td>2</td>\n",
       "    </tr>\n",
       "    <tr>\n",
       "      <th>24</th>\n",
       "      <td>Mozilla/5.0 (Macintosh; Intel Mac OS X 10.7; rv:31.0) Gecko/20100101 Firefox/31.0</td>\n",
       "      <td>2</td>\n",
       "    </tr>\n",
       "    <tr>\n",
       "      <th>25</th>\n",
       "      <td>\"Mozilla/5.0 (iPad; CPU OS 7_1_2 like Mac OS X) AppleWebKit/537.51.2 (KHTML, like Gecko) Version/7.0 Mobile/11D257 Safari/9537.53\"</td>\n",
       "      <td>2</td>\n",
       "    </tr>\n",
       "    <tr>\n",
       "      <th>26</th>\n",
       "      <td>\"Mozilla/5.0 (Windows NT 6.2; WOW64) AppleWebKit/537.36 (KHTML, like Gecko) Chrome/36.0.1985.143 Safari/537.36\"</td>\n",
       "      <td>2</td>\n",
       "    </tr>\n",
       "    <tr>\n",
       "      <th>27</th>\n",
       "      <td>\"Mozilla/5.0 (Macintosh; Intel Mac OS X 10_7_5) AppleWebKit/537.77.4 (KHTML, like Gecko) Version/6.1.5 Safari/537.77.4\"</td>\n",
       "      <td>2</td>\n",
       "    </tr>\n",
       "    <tr>\n",
       "      <th>28</th>\n",
       "      <td>\"Mozilla/5.0 (Windows NT 6.1; WOW64) AppleWebKit/537.36 (KHTML, like Gecko) Chrome/35.0.1916.153 Safari/537.36\"</td>\n",
       "      <td>2</td>\n",
       "    </tr>\n",
       "    <tr>\n",
       "      <th>29</th>\n",
       "      <td>\"Mozilla/5.0 (Macintosh; Intel Mac OS X 10_10) AppleWebKit/600.1.8 (KHTML, like Gecko) Version/8.0 Safari/600.1.8\"</td>\n",
       "      <td>2</td>\n",
       "    </tr>\n",
       "    <tr>\n",
       "      <th>30</th>\n",
       "      <td>Mozilla/5.0 (Windows NT 6.1; WOW64; rv:32.0) Gecko/20100101 Firefox/32.0</td>\n",
       "      <td>2</td>\n",
       "    </tr>\n",
       "    <tr>\n",
       "      <th>31</th>\n",
       "      <td>\"Mozilla/5.0 (X11; Linux x86_64) AppleWebKit/537.36 (KHTML, like Gecko) Chrome/36.0.1985.125 Safari/537.36\"</td>\n",
       "      <td>2</td>\n",
       "    </tr>\n",
       "    <tr>\n",
       "      <th>32</th>\n",
       "      <td>\"Mozilla/5.0 (Macintosh; Intel Mac OS X 10_9_2) AppleWebKit/537.36 (KHTML, like Gecko) Chrome/36.0.1985.125 Safari/537.36\"</td>\n",
       "      <td>2</td>\n",
       "    </tr>\n",
       "    <tr>\n",
       "      <th>33</th>\n",
       "      <td>\"Mozilla/5.0 (Macintosh; Intel Mac OS X 10_8_5) AppleWebKit/537.36 (KHTML, like Gecko) Chrome/36.0.1985.143 Safari/537.36\"</td>\n",
       "      <td>1</td>\n",
       "    </tr>\n",
       "    <tr>\n",
       "      <th>34</th>\n",
       "      <td>Mozilla/5.0 (X11; Ubuntu; Linux i686; rv:31.0) Gecko/20100101 Firefox/31.0</td>\n",
       "      <td>1</td>\n",
       "    </tr>\n",
       "    <tr>\n",
       "      <th>35</th>\n",
       "      <td>Mozilla/5.0 (Windows NT 6.1; WOW64; rv:30.0) Gecko/20100101 Firefox/30.0</td>\n",
       "      <td>1</td>\n",
       "    </tr>\n",
       "    <tr>\n",
       "      <th>36</th>\n",
       "      <td>\"Mozilla/5.0 (Windows NT 5.1) AppleWebKit/537.36 (KHTML, like Gecko) Chrome/36.0.1985.125 Safari/537.36\"</td>\n",
       "      <td>1</td>\n",
       "    </tr>\n",
       "    <tr>\n",
       "      <th>37</th>\n",
       "      <td>\"Mozilla/5.0 (iPhone; CPU iPhone OS 7_1_1 like Mac OS X) AppleWebKit/537.51.2 (KHTML, like Gecko) Version/7.0 Mobile/11D201 Safari/9537.53\"</td>\n",
       "      <td>1</td>\n",
       "    </tr>\n",
       "    <tr>\n",
       "      <th>38</th>\n",
       "      <td>Mozilla/5.0 (compatible; MSIE 9.0; Windows NT 6.1; Trident/5.0)</td>\n",
       "      <td>1</td>\n",
       "    </tr>\n",
       "    <tr>\n",
       "      <th>39</th>\n",
       "      <td>Mozilla/5.0 (compatible; MSIE 10.0; Windows NT 6.1; WOW64; Trident/6.0)</td>\n",
       "      <td>1</td>\n",
       "    </tr>\n",
       "    <tr>\n",
       "      <th>40</th>\n",
       "      <td>\"Mozilla/5.0 (Macintosh; Intel Mac OS X 10_8_5) AppleWebKit/537.36 (KHTML, like Gecko) Chrome/37.0.2062.94 Safari/537.36\"</td>\n",
       "      <td>1</td>\n",
       "    </tr>\n",
       "    <tr>\n",
       "      <th>41</th>\n",
       "      <td>\"Mozilla/5.0 (Macintosh; Intel Mac OS X 10_9_2) AppleWebKit/537.75.14 (KHTML, like Gecko) Version/7.0.3 Safari/537.75.14\"</td>\n",
       "      <td>1</td>\n",
       "    </tr>\n",
       "    <tr>\n",
       "      <th>42</th>\n",
       "      <td>\"Mozilla/5.0 (Windows NT 6.2; WOW64) AppleWebKit/537.36 (KHTML, like Gecko) Chrome/36.0.1985.125 Safari/537.36\"</td>\n",
       "      <td>1</td>\n",
       "    </tr>\n",
       "    <tr>\n",
       "      <th>43</th>\n",
       "      <td>\"Mozilla/5.0 (Macintosh; Intel Mac OS X 10_6_8) AppleWebKit/537.36 (KHTML, like Gecko) Chrome/36.0.1985.143 Safari/537.36\"</td>\n",
       "      <td>1</td>\n",
       "    </tr>\n",
       "    <tr>\n",
       "      <th>44</th>\n",
       "      <td>Mozilla/5.0 (Windows NT 6.0; rv:31.0) Gecko/20100101 Firefox/31.0</td>\n",
       "      <td>1</td>\n",
       "    </tr>\n",
       "    <tr>\n",
       "      <th>45</th>\n",
       "      <td>\"Mozilla/5.0 (Macintosh; Intel Mac OS X 10_7_5) AppleWebKit/537.36 (KHTML, like Gecko) Chrome/36.0.1985.125 Safari/537.36\"</td>\n",
       "      <td>1</td>\n",
       "    </tr>\n",
       "    <tr>\n",
       "      <th>46</th>\n",
       "      <td>\"Mozilla/5.0 (Windows NT 6.1) AppleWebKit/537.36 (KHTML, like Gecko) Chrome/36.0.1985.125 Safari/537.36\"</td>\n",
       "      <td>1</td>\n",
       "    </tr>\n",
       "    <tr>\n",
       "      <th>47</th>\n",
       "      <td>Mozilla/5.0 (Macintosh; Intel Mac OS X 10.6; rv:31.0) Gecko/20100101 Firefox/31.0</td>\n",
       "      <td>1</td>\n",
       "    </tr>\n",
       "    <tr>\n",
       "      <th>48</th>\n",
       "      <td>\"Mozilla/5.0 (Macintosh; Intel Mac OS X 10_9_3) AppleWebKit/537.76.4 (KHTML, like Gecko) Version/7.0.4 Safari/537.76.4\"</td>\n",
       "      <td>1</td>\n",
       "    </tr>\n",
       "    <tr>\n",
       "      <th>49</th>\n",
       "      <td>Mozilla/5.0 (X11; Linux x86_64; rv:31.0) Gecko/20100101 Firefox/31.0</td>\n",
       "      <td>1</td>\n",
       "    </tr>\n",
       "    <tr>\n",
       "      <th>50</th>\n",
       "      <td>\"Mozilla/5.0 (iPad; CPU OS 7_1_1 like Mac OS X) AppleWebKit/537.51.2 (KHTML, like Gecko) Version/7.0 Mobile/11D201 Safari/9537.53\"</td>\n",
       "      <td>1</td>\n",
       "    </tr>\n",
       "    <tr>\n",
       "      <th>51</th>\n",
       "      <td>\"Mozilla/5.0 (Macintosh; Intel Mac OS X 10_10) AppleWebKit/600.1.3 (KHTML, like Gecko) Version/8.0 Safari/600.1.3\"</td>\n",
       "      <td>1</td>\n",
       "    </tr>\n",
       "    <tr>\n",
       "      <th>52</th>\n",
       "      <td>Mozilla/5.0 (Windows NT 6.2; WOW64; rv:31.0) Gecko/20100101 Firefox/31.0</td>\n",
       "      <td>1</td>\n",
       "    </tr>\n",
       "    <tr>\n",
       "      <th>53</th>\n",
       "      <td>Mozilla/5.0 (Windows NT 6.1; WOW64; rv:24.0) Gecko/20100101 Firefox/24.0</td>\n",
       "      <td>1</td>\n",
       "    </tr>\n",
       "    <tr>\n",
       "      <th>54</th>\n",
       "      <td>\"Mozilla/5.0 (Macintosh; Intel Mac OS X 10_9_2) AppleWebKit/537.74.9 (KHTML, like Gecko) Version/7.0.2 Safari/537.74.9\"</td>\n",
       "      <td>1</td>\n",
       "    </tr>\n",
       "    <tr>\n",
       "      <th>55</th>\n",
       "      <td>Mozilla/5.0 (Macintosh; Intel Mac OS X 10.8; rv:31.0) Gecko/20100101 Firefox/31.0</td>\n",
       "      <td>1</td>\n",
       "    </tr>\n",
       "  </tbody>\n",
       "</table>\n",
       "</div>"
      ],
      "text/plain": [
       "                                                                                                                                      userAgent  \\\n",
       "0                               \"Mozilla/5.0 (Windows NT 6.1; WOW64) AppleWebKit/537.36 (KHTML, like Gecko) Chrome/36.0.1985.143 Safari/537.36\"   \n",
       "1                                                                      Mozilla/5.0 (Windows NT 6.1; WOW64; rv:31.0) Gecko/20100101 Firefox/31.0   \n",
       "2                    \"Mozilla/5.0 (Macintosh; Intel Mac OS X 10_9_4) AppleWebKit/537.36 (KHTML, like Gecko) Chrome/36.0.1985.125 Safari/537.36\"   \n",
       "3                    \"Mozilla/5.0 (Macintosh; Intel Mac OS X 10_9_4) AppleWebKit/537.36 (KHTML, like Gecko) Chrome/36.0.1985.143 Safari/537.36\"   \n",
       "4                       \"Mozilla/5.0 (Macintosh; Intel Mac OS X 10_9_4) AppleWebKit/537.77.4 (KHTML, like Gecko) Version/7.0.5 Safari/537.77.4\"   \n",
       "5                               \"Mozilla/5.0 (Windows NT 6.1; WOW64) AppleWebKit/537.36 (KHTML, like Gecko) Chrome/36.0.1985.125 Safari/537.36\"   \n",
       "6                       \"Mozilla/5.0 (Macintosh; Intel Mac OS X 10_9_4) AppleWebKit/537.78.2 (KHTML, like Gecko) Version/7.0.6 Safari/537.78.2\"   \n",
       "7                                                             Mozilla/5.0 (Macintosh; Intel Mac OS X 10.9; rv:31.0) Gecko/20100101 Firefox/31.0   \n",
       "8   \"Mozilla/5.0 (iPhone; CPU iPhone OS 7_1_2 like Mac OS X) AppleWebKit/537.51.2 (KHTML, like Gecko) Version/7.0 Mobile/11D257 Safari/9537.53\"   \n",
       "9                               \"Mozilla/5.0 (Windows NT 6.3; WOW64) AppleWebKit/537.36 (KHTML, like Gecko) Chrome/36.0.1985.143 Safari/537.36\"   \n",
       "10                    \"Mozilla/5.0 (Macintosh; Intel Mac OS X 10_9_4) AppleWebKit/537.36 (KHTML, like Gecko) Chrome/37.0.2062.94 Safari/537.36\"   \n",
       "11                                                                         Mozilla/5.0 (Windows NT 6.1; WOW64; Trident/7.0; rv:11.0) like Gecko   \n",
       "12                              \"Mozilla/5.0 (Windows NT 6.3; WOW64) AppleWebKit/537.36 (KHTML, like Gecko) Chrome/36.0.1985.125 Safari/537.36\"   \n",
       "13                                     \"Mozilla/5.0 (Windows NT 5.1) AppleWebKit/537.36 (KHTML, like Gecko) Chrome/36.0.1985.143 Safari/537.36\"   \n",
       "14                                                                     Mozilla/5.0 (Windows NT 6.3; WOW64; rv:31.0) Gecko/20100101 Firefox/31.0   \n",
       "15                                  \"Mozilla/5.0 (X11; Linux x86_64) AppleWebKit/537.36 (KHTML, like Gecko) Chrome/36.0.1985.143 Safari/537.36\"   \n",
       "16                                     \"Mozilla/5.0 (Windows NT 6.1) AppleWebKit/537.36 (KHTML, like Gecko) Chrome/36.0.1985.143 Safari/537.36\"   \n",
       "17                                                                 Mozilla/5.0 (X11; Ubuntu; Linux x86_64; rv:31.0) Gecko/20100101 Firefox/31.0   \n",
       "18                               \"Mozilla/5.0 (Windows NT 6.1; WOW64) AppleWebKit/537.36 (KHTML, like Gecko) Chrome/37.0.2062.94 Safari/537.36\"   \n",
       "19    \"Mozilla/5.0 (iPhone; CPU iPhone OS 7_1 like Mac OS X) AppleWebKit/537.51.2 (KHTML, like Gecko) Version/7.0 Mobile/11D167 Safari/9537.53\"   \n",
       "20                                                                       Mozilla/5.0 (compatible; MSIE 9.0; Windows NT 6.1; WOW64; Trident/5.0)   \n",
       "21                              \"Mozilla/5.0 (Windows NT 6.1; WOW64) AppleWebKit/537.36 (KHTML, like Gecko) Chrome/37.0.2062.103 Safari/537.36\"   \n",
       "22                                                                            Mozilla/5.0 (Windows NT 6.1; rv:31.0) Gecko/20100101 Firefox/31.0   \n",
       "23                   \"Mozilla/5.0 (Macintosh; Intel Mac OS X 10_9_4) AppleWebKit/537.36 (KHTML, like Gecko) Chrome/35.0.1916.153 Safari/537.36\"   \n",
       "24                                                            Mozilla/5.0 (Macintosh; Intel Mac OS X 10.7; rv:31.0) Gecko/20100101 Firefox/31.0   \n",
       "25           \"Mozilla/5.0 (iPad; CPU OS 7_1_2 like Mac OS X) AppleWebKit/537.51.2 (KHTML, like Gecko) Version/7.0 Mobile/11D257 Safari/9537.53\"   \n",
       "26                              \"Mozilla/5.0 (Windows NT 6.2; WOW64) AppleWebKit/537.36 (KHTML, like Gecko) Chrome/36.0.1985.143 Safari/537.36\"   \n",
       "27                      \"Mozilla/5.0 (Macintosh; Intel Mac OS X 10_7_5) AppleWebKit/537.77.4 (KHTML, like Gecko) Version/6.1.5 Safari/537.77.4\"   \n",
       "28                              \"Mozilla/5.0 (Windows NT 6.1; WOW64) AppleWebKit/537.36 (KHTML, like Gecko) Chrome/35.0.1916.153 Safari/537.36\"   \n",
       "29                           \"Mozilla/5.0 (Macintosh; Intel Mac OS X 10_10) AppleWebKit/600.1.8 (KHTML, like Gecko) Version/8.0 Safari/600.1.8\"   \n",
       "30                                                                     Mozilla/5.0 (Windows NT 6.1; WOW64; rv:32.0) Gecko/20100101 Firefox/32.0   \n",
       "31                                  \"Mozilla/5.0 (X11; Linux x86_64) AppleWebKit/537.36 (KHTML, like Gecko) Chrome/36.0.1985.125 Safari/537.36\"   \n",
       "32                   \"Mozilla/5.0 (Macintosh; Intel Mac OS X 10_9_2) AppleWebKit/537.36 (KHTML, like Gecko) Chrome/36.0.1985.125 Safari/537.36\"   \n",
       "33                   \"Mozilla/5.0 (Macintosh; Intel Mac OS X 10_8_5) AppleWebKit/537.36 (KHTML, like Gecko) Chrome/36.0.1985.143 Safari/537.36\"   \n",
       "34                                                                   Mozilla/5.0 (X11; Ubuntu; Linux i686; rv:31.0) Gecko/20100101 Firefox/31.0   \n",
       "35                                                                     Mozilla/5.0 (Windows NT 6.1; WOW64; rv:30.0) Gecko/20100101 Firefox/30.0   \n",
       "36                                     \"Mozilla/5.0 (Windows NT 5.1) AppleWebKit/537.36 (KHTML, like Gecko) Chrome/36.0.1985.125 Safari/537.36\"   \n",
       "37  \"Mozilla/5.0 (iPhone; CPU iPhone OS 7_1_1 like Mac OS X) AppleWebKit/537.51.2 (KHTML, like Gecko) Version/7.0 Mobile/11D201 Safari/9537.53\"   \n",
       "38                                                                              Mozilla/5.0 (compatible; MSIE 9.0; Windows NT 6.1; Trident/5.0)   \n",
       "39                                                                      Mozilla/5.0 (compatible; MSIE 10.0; Windows NT 6.1; WOW64; Trident/6.0)   \n",
       "40                    \"Mozilla/5.0 (Macintosh; Intel Mac OS X 10_8_5) AppleWebKit/537.36 (KHTML, like Gecko) Chrome/37.0.2062.94 Safari/537.36\"   \n",
       "41                    \"Mozilla/5.0 (Macintosh; Intel Mac OS X 10_9_2) AppleWebKit/537.75.14 (KHTML, like Gecko) Version/7.0.3 Safari/537.75.14\"   \n",
       "42                              \"Mozilla/5.0 (Windows NT 6.2; WOW64) AppleWebKit/537.36 (KHTML, like Gecko) Chrome/36.0.1985.125 Safari/537.36\"   \n",
       "43                   \"Mozilla/5.0 (Macintosh; Intel Mac OS X 10_6_8) AppleWebKit/537.36 (KHTML, like Gecko) Chrome/36.0.1985.143 Safari/537.36\"   \n",
       "44                                                                            Mozilla/5.0 (Windows NT 6.0; rv:31.0) Gecko/20100101 Firefox/31.0   \n",
       "45                   \"Mozilla/5.0 (Macintosh; Intel Mac OS X 10_7_5) AppleWebKit/537.36 (KHTML, like Gecko) Chrome/36.0.1985.125 Safari/537.36\"   \n",
       "46                                     \"Mozilla/5.0 (Windows NT 6.1) AppleWebKit/537.36 (KHTML, like Gecko) Chrome/36.0.1985.125 Safari/537.36\"   \n",
       "47                                                            Mozilla/5.0 (Macintosh; Intel Mac OS X 10.6; rv:31.0) Gecko/20100101 Firefox/31.0   \n",
       "48                      \"Mozilla/5.0 (Macintosh; Intel Mac OS X 10_9_3) AppleWebKit/537.76.4 (KHTML, like Gecko) Version/7.0.4 Safari/537.76.4\"   \n",
       "49                                                                         Mozilla/5.0 (X11; Linux x86_64; rv:31.0) Gecko/20100101 Firefox/31.0   \n",
       "50           \"Mozilla/5.0 (iPad; CPU OS 7_1_1 like Mac OS X) AppleWebKit/537.51.2 (KHTML, like Gecko) Version/7.0 Mobile/11D201 Safari/9537.53\"   \n",
       "51                           \"Mozilla/5.0 (Macintosh; Intel Mac OS X 10_10) AppleWebKit/600.1.3 (KHTML, like Gecko) Version/8.0 Safari/600.1.3\"   \n",
       "52                                                                     Mozilla/5.0 (Windows NT 6.2; WOW64; rv:31.0) Gecko/20100101 Firefox/31.0   \n",
       "53                                                                     Mozilla/5.0 (Windows NT 6.1; WOW64; rv:24.0) Gecko/20100101 Firefox/24.0   \n",
       "54                      \"Mozilla/5.0 (Macintosh; Intel Mac OS X 10_9_2) AppleWebKit/537.74.9 (KHTML, like Gecko) Version/7.0.2 Safari/537.74.9\"   \n",
       "55                                                            Mozilla/5.0 (Macintosh; Intel Mac OS X 10.8; rv:31.0) Gecko/20100101 Firefox/31.0   \n",
       "\n",
       "    Users  \n",
       "0      24  \n",
       "1      18  \n",
       "2      16  \n",
       "3      12  \n",
       "4      12  \n",
       "5      10  \n",
       "6      10  \n",
       "7       9  \n",
       "8       8  \n",
       "9       7  \n",
       "10      7  \n",
       "11      7  \n",
       "12      5  \n",
       "13      4  \n",
       "14      4  \n",
       "15      4  \n",
       "16      4  \n",
       "17      4  \n",
       "18      4  \n",
       "19      4  \n",
       "20      3  \n",
       "21      3  \n",
       "22      3  \n",
       "23      2  \n",
       "24      2  \n",
       "25      2  \n",
       "26      2  \n",
       "27      2  \n",
       "28      2  \n",
       "29      2  \n",
       "30      2  \n",
       "31      2  \n",
       "32      2  \n",
       "33      1  \n",
       "34      1  \n",
       "35      1  \n",
       "36      1  \n",
       "37      1  \n",
       "38      1  \n",
       "39      1  \n",
       "40      1  \n",
       "41      1  \n",
       "42      1  \n",
       "43      1  \n",
       "44      1  \n",
       "45      1  \n",
       "46      1  \n",
       "47      1  \n",
       "48      1  \n",
       "49      1  \n",
       "50      1  \n",
       "51      1  \n",
       "52      1  \n",
       "53      1  \n",
       "54      1  \n",
       "55      1  "
      ]
     },
     "execution_count": 18,
     "metadata": {},
     "output_type": "execute_result"
    }
   ],
   "source": [
    "#Distribution of users by userAgent\n",
    "pd.set_option('max_colwidth', 800)\n",
    "userAgent_counts = df.groupBy(\"userAgent\").agg(countDistinct(\"userId\").alias(\"Users\"))\\\n",
    "                    .sort(col(\"Users\").desc()).toPandas()\n",
    "userAgent_counts"
   ]
  },
  {
   "cell_type": "markdown",
   "metadata": {},
   "source": [
    "The userAgent column has set of interesting features that we can be extracted such as - Platform and Browser Type."
   ]
  },
  {
   "cell_type": "code",
   "execution_count": 19,
   "metadata": {},
   "outputs": [],
   "source": [
    "#Extract Browser Type\n",
    "def get_browser(x):\n",
    "    if 'Firefox' in x:\n",
    "        return 'firefox'\n",
    "    elif 'Safari' in x:\n",
    "        if 'Chrome' in x:\n",
    "            return 'chrome'\n",
    "        else:\n",
    "            return 'safari'\n",
    "    elif 'Trident' in x:\n",
    "        return 'ie'\n",
    "    else:\n",
    "        return np.NaN\n",
    "userAgent_counts['browser'] = userAgent_counts['userAgent'].apply(get_browser)"
   ]
  },
  {
   "cell_type": "code",
   "execution_count": 20,
   "metadata": {},
   "outputs": [],
   "source": [
    "#Extract Platform Type\n",
    "def get_os(x):\n",
    "    if 'Windows' in x:\n",
    "        return 'windows'\n",
    "    elif 'Macintosh' in x:\n",
    "        return 'mac'\n",
    "    elif 'Linux' in x:\n",
    "        return 'linux'\n",
    "    elif 'iPhone' in x:\n",
    "        return 'iphone'\n",
    "    elif 'iPad' in x:\n",
    "        return 'ipad'\n",
    "    else:\n",
    "        return np.NaN\n",
    "userAgent_counts['os'] = userAgent_counts['userAgent'].apply(get_os)"
   ]
  },
  {
   "cell_type": "markdown",
   "metadata": {},
   "source": [
    "Distribution of Users by Type of Browser"
   ]
  },
  {
   "cell_type": "code",
   "execution_count": 21,
   "metadata": {},
   "outputs": [
    {
     "data": {
      "text/plain": [
       "<matplotlib.axes._subplots.AxesSubplot at 0x7f87f0602b70>"
      ]
     },
     "execution_count": 21,
     "metadata": {},
     "output_type": "execute_result"
    },
    {
     "data": {
      "image/png": "[encoded data removed]",
      "text/plain": [
       "<matplotlib.figure.Figure at 0x7f87f5d27dd8>"
      ]
     },
     "metadata": {},
     "output_type": "display_data"
    }
   ],
   "source": [
    "userAgent_counts.groupby('browser')['Users'].sum().sort_values().plot(kind='bar')"
   ]
  },
  {
   "cell_type": "markdown",
   "metadata": {},
   "source": [
    "About 54% of users leveraged Chrome as a browser."
   ]
  },
  {
   "cell_type": "markdown",
   "metadata": {},
   "source": [
    "Distribution of Users by Type of OS"
   ]
  },
  {
   "cell_type": "code",
   "execution_count": 22,
   "metadata": {},
   "outputs": [
    {
     "data": {
      "text/plain": [
       "<matplotlib.axes._subplots.AxesSubplot at 0x7f87ed6a05c0>"
      ]
     },
     "execution_count": 22,
     "metadata": {},
     "output_type": "execute_result"
    },
    {
     "data": {
      "image/png": "[encoded data removed]",
      "text/plain": [
       "<matplotlib.figure.Figure at 0x7f87f5c44f98>"
      ]
     },
     "metadata": {},
     "output_type": "display_data"
    }
   ],
   "source": [
    "userAgent_counts.groupby('os')['Users'].sum().sort_values().plot(kind='bar')"
   ]
  },
  {
   "cell_type": "markdown",
   "metadata": {},
   "source": [
    "About 48% of users leveraged Windows as OS."
   ]
  },
  {
   "cell_type": "code",
   "execution_count": 23,
   "metadata": {},
   "outputs": [
    {
     "name": "stdout",
     "output_type": "stream",
     "text": [
      "+-----+------+-----+-----+------------------+\n",
      "|Churn|Gender|Users|total|           Percent|\n",
      "+-----+------+-----+-----+------------------+\n",
      "|    0|     F|   84|  104| 80.76923076923077|\n",
      "|    1|     F|   20|  104| 19.23076923076923|\n",
      "|    1|     M|   32|  121|26.446280991735538|\n",
      "|    0|     M|   89|  121| 73.55371900826447|\n",
      "+-----+------+-----+-----+------------------+\n",
      "\n"
     ]
    },
    {
     "data": {
      "image/png": "[encoded data removed]",
      "text/plain": [
       "<matplotlib.figure.Figure at 0x7f87ec372908>"
      ]
     },
     "metadata": {},
     "output_type": "display_data"
    }
   ],
   "source": [
    "# Distribution of Users by Churn and Gender\n",
    "churn_gender_counts = df.groupBy([\"Churn\",\"Gender\"]).agg(countDistinct(\"userId\").alias(\"Users\"))\\\n",
    "                      .withColumn('total', f.sum('Users').over(Window.partitionBy('Gender')))\\\n",
    "                      .withColumn('Percent', f.col('Users')*100/f.col('total'))\n",
    "\n",
    "churn_gender_counts.show()\n",
    "\n",
    "sns.set_style(\"white\")\n",
    "plt.figure(figsize=(16, 6))\n",
    "sns.set_palette(\"Set1\",n_colors=8, desat=.5)\n",
    "ax = sns.barplot(x=\"Percent\", y=\"Gender\", hue=\"Churn\", data=churn_gender_counts.toPandas(),capsize=.2)\n"
   ]
  },
  {
   "cell_type": "markdown",
   "metadata": {},
   "source": [
    "Based on results above, the churn rate for males is higher than females (26% vs 19%)."
   ]
  },
  {
   "cell_type": "code",
   "execution_count": 24,
   "metadata": {},
   "outputs": [],
   "source": [
    "# Obtain whether a user is paid or free\n",
    "#level Definition\n",
    "level_def=udf(lambda x: 1 if x == \"free\" else 0, IntegerType())\n",
    "# apply to the dataframe\n",
    "df = df.withColumn(\"level_free\", level_def(\"level\"))\n",
    "#Define window bounds\n",
    "windowval = Window.partitionBy(\"userId\").rangeBetween(Window.unboundedPreceding, Window.unboundedFollowing)\n",
    "# Applying the window\n",
    "df = df.withColumn(\"level_free\", fmax(\"level_free\").over(windowval))"
   ]
  },
  {
   "cell_type": "code",
   "execution_count": 25,
   "metadata": {},
   "outputs": [
    {
     "name": "stdout",
     "output_type": "stream",
     "text": [
      "+-----+----------+-----+-----+-----------------+\n",
      "|Churn|level_free|Users|total|          Percent|\n",
      "+-----+----------+-----+-----+-----------------+\n",
      "|    1|         1|   46|  195|23.58974358974359|\n",
      "|    0|         1|  149|  195|76.41025641025641|\n",
      "|    0|         0|   24|   30|             80.0|\n",
      "|    1|         0|    6|   30|             20.0|\n",
      "+-----+----------+-----+-----+-----------------+\n",
      "\n"
     ]
    },
    {
     "data": {
      "image/png": "[encoded data removed]",
      "text/plain": [
       "<matplotlib.figure.Figure at 0x7f87e912df28>"
      ]
     },
     "metadata": {},
     "output_type": "display_data"
    }
   ],
   "source": [
    "# Distribution of Users by Churn and Level\n",
    "churn_level_counts = df.groupBy([\"Churn\",\"level_free\"]).agg(countDistinct(\"userId\").alias(\"Users\"))\\\n",
    "                      .withColumn('total', f.sum('Users').over(Window.partitionBy('level_free')))\\\n",
    "                      .withColumn('Percent', f.col('Users')*100/f.col('total'))\n",
    "\n",
    "churn_level_counts.show()\n",
    "\n",
    "\n",
    "sns.set_style(\"white\")\n",
    "plt.figure(figsize=(16, 6))\n",
    "sns.set_palette(\"Set1\",n_colors=8, desat=.5)\n",
    "ax = sns.barplot(x=\"level_free\", y=\"Percent\", hue=\"Churn\", data=churn_level_counts.toPandas(),capsize=.2)\n"
   ]
  },
  {
   "cell_type": "markdown",
   "metadata": {},
   "source": [
    "Based on results above, the churn rate for 'free' user is higher than 'paid' user (24% vs 20%)."
   ]
  },
  {
   "cell_type": "code",
   "execution_count": 26,
   "metadata": {},
   "outputs": [],
   "source": [
    "browser = udf(lambda x : get_browser(x))\n",
    "df = df.withColumn('browser',browser(df.userAgent))\n",
    "\n",
    "os = udf(lambda x : get_os(x))\n",
    "df = df.withColumn('os',os(df.userAgent))"
   ]
  },
  {
   "cell_type": "code",
   "execution_count": 27,
   "metadata": {},
   "outputs": [
    {
     "name": "stdout",
     "output_type": "stream",
     "text": [
      "+-----+-------+-----+-----+------------------+\n",
      "|Churn|Browser|Users|total|           Percent|\n",
      "+-----+-------+-----+-----+------------------+\n",
      "|    1|firefox|   16|   50|              32.0|\n",
      "|    0|firefox|   34|   50|              68.0|\n",
      "|    0| chrome|   92|  117| 78.63247863247864|\n",
      "|    1| chrome|   25|  117|21.367521367521366|\n",
      "|    1|     ie|    1|   12| 8.333333333333334|\n",
      "|    0|     ie|   11|   12| 91.66666666666667|\n",
      "|    0| safari|   36|   46| 78.26086956521739|\n",
      "|    1| safari|   10|   46| 21.73913043478261|\n",
      "+-----+-------+-----+-----+------------------+\n",
      "\n"
     ]
    },
    {
     "data": {
      "image/png": "[encoded data removed]",
      "text/plain": [
       "<matplotlib.figure.Figure at 0x7f87e8ed5780>"
      ]
     },
     "metadata": {},
     "output_type": "display_data"
    }
   ],
   "source": [
    "# Distribution of Users by Churn and Browser Type\n",
    "churn_browser_counts = df.groupBy([\"Churn\",\"Browser\"]).agg(countDistinct(\"userId\").alias(\"Users\"))\\\n",
    "                      .withColumn('total', f.sum('Users').over(Window.partitionBy('Browser')))\\\n",
    "                      .withColumn('Percent', f.col('Users')*100/f.col('total'))\n",
    "\n",
    "churn_browser_counts.show()\n",
    "\n",
    "\n",
    "sns.set_style(\"white\")\n",
    "plt.figure(figsize=(16, 6))\n",
    "sns.set_palette(\"Set1\",n_colors=8, desat=.5)\n",
    "ax = sns.barplot(x=\"Percent\", y=\"Browser\", hue=\"Churn\", data=churn_browser_counts.toPandas(),capsize=.2)"
   ]
  },
  {
   "cell_type": "markdown",
   "metadata": {},
   "source": [
    "Based on results above, the churn rate for 'Firefox' browser is significantly higher than other types of browser."
   ]
  },
  {
   "cell_type": "code",
   "execution_count": 28,
   "metadata": {},
   "outputs": [
    {
     "name": "stdout",
     "output_type": "stream",
     "text": [
      "+-----+-------+-----+-----+------------------+\n",
      "|Churn|     OS|Users|total|           Percent|\n",
      "+-----+-------+-----+-----+------------------+\n",
      "|    0| iphone|    9|   13| 69.23076923076923|\n",
      "|    1| iphone|    4|   13| 30.76923076923077|\n",
      "|    1|  linux|    5|   12|41.666666666666664|\n",
      "|    0|  linux|    7|   12|58.333333333333336|\n",
      "|    1|    mac|   19|   86|22.093023255813954|\n",
      "|    0|    mac|   67|   86| 77.90697674418605|\n",
      "|    0|   ipad|    3|    3|             100.0|\n",
      "|    0|windows|   87|  111| 78.37837837837837|\n",
      "|    1|windows|   24|  111| 21.62162162162162|\n",
      "+-----+-------+-----+-----+------------------+\n",
      "\n"
     ]
    },
    {
     "data": {
      "image/png": "[encoded data removed]",
      "text/plain": [
       "<matplotlib.figure.Figure at 0x7f8801679320>"
      ]
     },
     "metadata": {},
     "output_type": "display_data"
    }
   ],
   "source": [
    "# Distribution of Users by Churn and OS Type\n",
    "churn_os_counts = df.groupBy([\"Churn\",\"OS\"]).agg(countDistinct(\"userId\").alias(\"Users\"))\\\n",
    "                      .withColumn('total', f.sum('Users').over(Window.partitionBy('os')))\\\n",
    "                      .withColumn('Percent', f.col('Users')*100/f.col('total'))\n",
    "\n",
    "churn_os_counts.show()\n",
    "\n",
    "\n",
    "sns.set_style(\"white\")\n",
    "plt.figure(figsize=(16, 6))\n",
    "sns.set_palette(\"Set1\",n_colors=8, desat=.5)\n",
    "ax = sns.barplot(x=\"Percent\", y=\"OS\", hue=\"Churn\", data=churn_os_counts.toPandas(),capsize=.2)"
   ]
  },
  {
   "cell_type": "markdown",
   "metadata": {},
   "source": [
    "Based on results above, the churn rate for 'Linux' OS user is higher than other  ."
   ]
  },
  {
   "cell_type": "markdown",
   "metadata": {},
   "source": [
    "# Feature Engineering\n",
    "Once you've familiarized yourself with the data, build out the features you find promising to train your model on. To work with the full dataset, you can follow the following steps.\n",
    "- Write a script to extract the necessary features from the smaller subset of data\n",
    "- Ensure that your script is scalable, using the best practices discussed in Lesson 3\n",
    "- Try your script on the full data set, debugging your script if necessary\n",
    "\n",
    "If you are working in the classroom workspace, you can just extract features based on the small subset of data contained here. Be sure to transfer over this work to the larger dataset when you work on your Spark cluster.\n",
    "\n",
    "The following features were incorporated to predict churn at the user level \n",
    "\n",
    "# Numerical Features:\n",
    "1. Total number of songs \n",
    "2. Average length of session\n",
    "3. Number of songs that received a thumb up\n",
    "4. Number of songs that received a thumb down\n",
    "5. Number of friend additions\n",
    "6. Number of advertisements seen\n",
    "7. Number of playlist additions\n",
    "8. Number of unique artists and songs listened to\n",
    "9. Number of sessions\n",
    "\n",
    "# Categorial Features:\n",
    "1. Gender type\n",
    "2. Browser type\n",
    "3. OS type\n",
    "4. Level of the user\n",
    "5. State a user lives in"
   ]
  },
  {
   "cell_type": "code",
   "execution_count": 29,
   "metadata": {},
   "outputs": [],
   "source": [
    "def dummy_feature(feat_name):\n",
    "    '''\n",
    "    Create Dummy Variables for Categorical Features\n",
    "    '''\n",
    "    feat=df.groupBy(\"userID\").pivot(feat_name).agg(f.lit(1)).na.fill(0)\n",
    "    feat= feat.select([f.col(c).alias(feat_name+\"_\"+c+\"\") if c not in 'userID' else c for c in feat.columns])\n",
    "    return feat"
   ]
  },
  {
   "cell_type": "code",
   "execution_count": 30,
   "metadata": {},
   "outputs": [],
   "source": [
    "def get_categorical_features():\n",
    "    '''\n",
    "    join all categorical features together\n",
    "    '''\n",
    "    feature_gender = dummy_feature('gender')\n",
    "    feature_browser = dummy_feature('browser')\n",
    "    feature_os = dummy_feature('os')\n",
    "    feature_state = dummy_feature('State')\n",
    "    \n",
    "    result = feature_gender.join(feature_browser,on='userId',how='inner').\\\n",
    "                            join(feature_os,on='userId',how='inner').\\\n",
    "                            join(feature_state,on='userId',how='inner')\n",
    "    return result\n",
    "\n",
    "categorical_features = get_categorical_features()"
   ]
  },
  {
   "cell_type": "code",
   "execution_count": 31,
   "metadata": {},
   "outputs": [],
   "source": [
    "def get_numerical_features():\n",
    "    '''\n",
    "    join all numerical features together and implement Standscaler\n",
    "    '''\n",
    "    #length\n",
    "    feature_length = df.select([\"userId\", \"length\"])\\\n",
    "                    .groupby([\"userId\"]).agg(avg('length').alias('mean_length'),\\\n",
    "                     fmax('length').alias('max_length'),\\\n",
    "                     fmin('length').alias('min_length'),\\\n",
    "                     fsum('length').alias('tot_length'))\n",
    "    \n",
    "\n",
    "    page_count = df.select([\"userId\",\"page\"]).groupby([\"userId\",\"page\"]).count()\n",
    "\n",
    "    temp1 = page_count.groupby('userId').pivot('page').agg(first('count')).fillna(0)\n",
    "\n",
    "    temp1 = temp1.select(['userId','NextSong','Thumbs Up', 'Thumbs Down', 'Add to Playlist', 'Add Friend', 'Roll Advert'])\n",
    "   \n",
    "    cols = temp1.columns[1:]\n",
    "\n",
    "    feature_page = temp1.withColumn('total', sum([col(c) for c in cols]))    \n",
    "    \n",
    "    #churn - Target Variabe\n",
    "    \n",
    "    feature_churn = df.groupBy(\"userID\").agg(fmax(\"churn\").alias(\"label\"))\n",
    "    \n",
    "    \n",
    "    feature_level= df.groupBy(\"userID\").agg(fmax(\"level_free\").alias(\"level_free\"))\n",
    "    \n",
    "    #Total songs number\n",
    "    feature_songs_count=df.filter(df.page=='NextSong')\\\n",
    "                           .select(['userID','song'])\\\n",
    "                           .groupBy([\"userID\"])\\\n",
    "                           .agg(count(\"song\").alias(\"songs_count\")) \n",
    "    \n",
    "    \n",
    "    #unique songs number\n",
    "    feature_unique_songs_count=df.filter(df.page=='NextSong')\\\n",
    "                           .select(['userID','song'])\\\n",
    "                           .groupBy([\"userID\"])\\\n",
    "                           .agg(countDistinct(\"song\").alias(\"songs_unique_count\")) \n",
    "    \n",
    "    #unique artists artist\n",
    "    feature_unique_artist_count=df.filter(df.page=='NextSong')\\\n",
    "                           .select(['userID','artist'])\\\n",
    "                           .groupBy([\"userID\"])\\\n",
    "                           .agg(countDistinct(\"artist\").alias(\"artist_unique_count\"))\n",
    "   \n",
    "    #unique session count\n",
    "    feature_session_count=df.select(['userID','sessionID'])\\\n",
    "                            .groupBy([\"userID\"])\\\n",
    "                            .agg(countDistinct(\"sessionID\").alias(\"session_count\"))\n",
    "    \n",
    "    result=feature_churn.join(feature_length,on='userId',how='inner').\\\n",
    "                            join(feature_songs_count,on='userId',how='inner').\\\n",
    "                            join(feature_unique_songs_count,on='userId',how='inner').\\\n",
    "                            join(feature_unique_artist_count,on='userId',how='inner').\\\n",
    "                            join(feature_session_count,on='userId',how='inner').\\\n",
    "                            join(feature_page,on='userId',how='inner').\\\n",
    "                            join(feature_level,on='userId',how='inner')\n",
    "    return result\n",
    "\n",
    "numerical_features = get_numerical_features()"
   ]
  },
  {
   "cell_type": "code",
   "execution_count": 32,
   "metadata": {},
   "outputs": [],
   "source": [
    "def combine_features():\n",
    "    '''\n",
    "    joins both categorical and numerical features together\n",
    "    '''\n",
    "    \n",
    "    overall=numerical_features.join(categorical_features,on='userID',how='inner')\n",
    "    overall = overall.fillna(0)\n",
    "    return overall\n",
    "\n",
    "combine_features=combine_features()"
   ]
  },
  {
   "cell_type": "code",
   "execution_count": 33,
   "metadata": {},
   "outputs": [
    {
     "name": "stdout",
     "output_type": "stream",
     "text": [
      "(225, 87)\n"
     ]
    }
   ],
   "source": [
    "print((combine_features.count(), len(combine_features.columns)))"
   ]
  },
  {
   "cell_type": "markdown",
   "metadata": {},
   "source": [
    "# Modeling\n",
    "Split the full dataset into train, test, and validation sets. Test out several of the machine learning methods you learned. Evaluate the accuracy of the various models, tuning parameters as necessary. Determine your winning model based on test accuracy and report results on the validation set. Since the churned users are a fairly small subset, I suggest using F1 score as the metric to optimize.\n",
    "\n",
    "Below are some classification models which I'd like to attempt :\n",
    "1. Logistic Regression\n",
    "2. Gradient Boosted Trees Classification\n",
    "3. Support Vector Machines Classification\n",
    "4. Random Forest Classification"
   ]
  },
  {
   "cell_type": "code",
   "execution_count": 34,
   "metadata": {},
   "outputs": [],
   "source": [
    "#Identify the columns for vectorize\n",
    "input_cols = combine_features.columns[2:]\n",
    "\n",
    "# Split the data set into train and test\n",
    "train, test = combine_features.randomSplit([0.80, 0.20], seed=45)\n",
    "\n",
    "#Vectorize and Scale\n",
    "assembler = VectorAssembler(inputCols=input_cols, outputCol=\"NumFeatures\")\n",
    "scaler = MinMaxScaler(inputCol=\"NumFeatures\", outputCol=\"features\")"
   ]
  },
  {
   "cell_type": "code",
   "execution_count": 35,
   "metadata": {},
   "outputs": [],
   "source": [
    "#Empty Dataframe for saving results of model evaluation\n",
    "pd_ml_results = []\n",
    "pd_ml_results = pd.DataFrame(pd_ml_results)\n",
    "pd_ml_results['Evaluations'] = ['Accuracy','F1_Score']"
   ]
  },
  {
   "cell_type": "code",
   "execution_count": 36,
   "metadata": {},
   "outputs": [],
   "source": [
    "#Define Machine learning classifiers\n",
    "lr_classifier = LogisticRegression(maxIter=10,regParam=0.0,elasticNetParam=0)\n",
    "gbt_classifier = GBTClassifier(maxIter=10,seed=42)\n",
    "svm_classifier = LinearSVC(maxIter=10)\n",
    "rf_classifier = RandomForestClassifier()"
   ]
  },
  {
   "cell_type": "code",
   "execution_count": 37,
   "metadata": {},
   "outputs": [],
   "source": [
    "#Define pipelines\n",
    "lr_pipeline = Pipeline(stages=[assembler, scaler, lr_classifier]);\n",
    "gbt_pipeline = Pipeline(stages=[assembler, scaler, gbt_classifier]);\n",
    "svm_pipeline = Pipeline(stages=[assembler, scaler, svm_classifier]);\n",
    "rf_pipeline = Pipeline(stages=[assembler, scaler, rf_classifier]);"
   ]
  },
  {
   "cell_type": "code",
   "execution_count": 38,
   "metadata": {},
   "outputs": [],
   "source": [
    "#Define param grids\n",
    "lr_paramGrid = ParamGridBuilder() \\\n",
    "    .addGrid(lr_classifier.maxIter, [1,5]) \\\n",
    "    .addGrid(lr_classifier.regParam, [0.1, 0.01]) \\\n",
    "    .build()\n",
    "\n",
    "gbt_paramGrid = ParamGridBuilder() \\\n",
    "    .addGrid(gbt_classifier.maxIter, [1,5]) \\\n",
    "    .addGrid(gbt_classifier.maxDepth, [2, 4]) \\\n",
    "    .build()\n",
    "\n",
    "svm_paramGrid = ParamGridBuilder() \\\n",
    "    .addGrid(svm_classifier.maxIter, [1, 5]) \\\n",
    "    .build()\n",
    "\n",
    "rf_paramGrid = ParamGridBuilder() \\\n",
    "    .addGrid(rf_classifier.impurity,['entropy', 'gini']) \\\n",
    "    .addGrid(rf_classifier.maxDepth,[2, 4]) \\\n",
    "    .addGrid(rf_classifier.numTrees,[5, 10]) \\\n",
    "    .build()"
   ]
  },
  {
   "cell_type": "code",
   "execution_count": 39,
   "metadata": {},
   "outputs": [],
   "source": [
    "#Define Cross Validators\n",
    "lr_crossval = CrossValidator(estimator=lr_pipeline,\n",
    "                          estimatorParamMaps=lr_paramGrid,\n",
    "                          evaluator=MulticlassClassificationEvaluator(),\n",
    "                          numFolds=2) \n",
    "\n",
    "gbt_crossval = CrossValidator(estimator=gbt_pipeline,\n",
    "                          estimatorParamMaps=gbt_paramGrid,\n",
    "                          evaluator=MulticlassClassificationEvaluator(),\n",
    "                          numFolds=2) \n",
    "\n",
    "svm_crossval = CrossValidator(estimator=svm_pipeline,\n",
    "                          estimatorParamMaps=svm_paramGrid,\n",
    "                          evaluator=MulticlassClassificationEvaluator(),\n",
    "                          numFolds=2) \n",
    "\n",
    "rf_crossval = CrossValidator(estimator=rf_pipeline,\n",
    "                          estimatorParamMaps=rf_paramGrid,\n",
    "                          evaluator=MulticlassClassificationEvaluator(),\n",
    "                          numFolds=2)"
   ]
  },
  {
   "cell_type": "markdown",
   "metadata": {},
   "source": [
    "# Logistic Regression"
   ]
  },
  {
   "cell_type": "code",
   "execution_count": 40,
   "metadata": {},
   "outputs": [
    {
     "name": "stdout",
     "output_type": "stream",
     "text": [
      "Logistic Regression Metrics:\n",
      "Accuracy: 0.75\n",
      "F-1 Score:0.7071428571428571\n"
     ]
    }
   ],
   "source": [
    "lr_model = lr_crossval.fit(train)\n",
    "lr_predict = lr_model.transform(test)\n",
    "\n",
    "\n",
    "lr_evaluator = MulticlassClassificationEvaluator(labelCol =\"label\",predictionCol=\"prediction\")\n",
    "\n",
    "lr_accuracy = lr_evaluator.evaluate(lr_predict, {lr_evaluator.metricName: \"accuracy\"})\n",
    "lr_f1score = lr_evaluator.evaluate(lr_predict, {lr_evaluator.metricName: \"f1\"})\n",
    "\n",
    "\n",
    "print('Logistic Regression Metrics:')\n",
    "print('Accuracy: {}'.format(lr_accuracy))\n",
    "print('F-1 Score:{}'.format(lr_f1score))\n",
    "\n",
    "pd_ml_results['LogisticRegression'] = [lr_accuracy,lr_f1score]"
   ]
  },
  {
   "cell_type": "markdown",
   "metadata": {},
   "source": [
    "# Gradient Boosting Trees Classification"
   ]
  },
  {
   "cell_type": "code",
   "execution_count": 41,
   "metadata": {},
   "outputs": [
    {
     "name": "stdout",
     "output_type": "stream",
     "text": [
      "Gradient Boosted Trees Metrics:\n",
      "Accuracy: 0.775\n",
      "F-1 Score:0.7680252583237658\n"
     ]
    }
   ],
   "source": [
    "gbt_model = gbt_crossval.fit(train)\n",
    "gbt_predict = gbt_model.transform(test)\n",
    "\n",
    "\n",
    "gbt_evaluator = MulticlassClassificationEvaluator(labelCol = \"label\",predictionCol=\"prediction\")\n",
    "\n",
    "gbt_accuracy = gbt_evaluator.evaluate(gbt_predict, {gbt_evaluator.metricName: \"accuracy\"})\n",
    "gbt_f1score = gbt_evaluator.evaluate(gbt_predict, {gbt_evaluator.metricName: \"f1\"})\n",
    "    \n",
    "\n",
    "print('Gradient Boosted Trees Metrics:')\n",
    "print('Accuracy: {}'.format(gbt_accuracy))\n",
    "print('F-1 Score:{}'.format(gbt_f1score))\n",
    "\n",
    "pd_ml_results['GradientBoostedTrees'] = [gbt_accuracy,gbt_f1score]"
   ]
  },
  {
   "cell_type": "markdown",
   "metadata": {},
   "source": [
    "# Support Vector Machines Classification"
   ]
  },
  {
   "cell_type": "code",
   "execution_count": 42,
   "metadata": {},
   "outputs": [
    {
     "name": "stdout",
     "output_type": "stream",
     "text": [
      "SupportVectorMachine Metrics:\n",
      "Accuracy: 0.825\n",
      "F-1 Score:0.7458904109589041\n"
     ]
    }
   ],
   "source": [
    "svm_model = svm_crossval.fit(train)\n",
    "svm_predict = svm_model.transform(test)\n",
    "\n",
    "\n",
    "svm_evaluator = MulticlassClassificationEvaluator(labelCol = \"label\",predictionCol=\"prediction\")\n",
    "\n",
    "svm_accuracy = svm_evaluator.evaluate(svm_predict, {svm_evaluator.metricName: \"accuracy\"})\n",
    "svm_f1score = svm_evaluator.evaluate(svm_predict, {svm_evaluator.metricName: \"f1\"})\n",
    "\n",
    "\n",
    "print('SupportVectorMachine Metrics:')\n",
    "print('Accuracy: {}'.format(svm_accuracy))\n",
    "print('F-1 Score:{}'.format(svm_f1score))\n",
    "\n",
    "pd_ml_results['SupportVectorMachine(SVM)'] = [svm_accuracy,svm_f1score]"
   ]
  },
  {
   "cell_type": "markdown",
   "metadata": {},
   "source": [
    "# Random Forest Classification"
   ]
  },
  {
   "cell_type": "code",
   "execution_count": 43,
   "metadata": {},
   "outputs": [
    {
     "name": "stdout",
     "output_type": "stream",
     "text": [
      "Random Forest Metrics:\n",
      "Accuracy: 0.775\n",
      "F-1 Score:0.7204225352112676\n"
     ]
    }
   ],
   "source": [
    "rf_model = rf_crossval.fit(train)\n",
    "rf_predict = rf_model.transform(test)\n",
    "\n",
    "\n",
    "rf_evaluator = MulticlassClassificationEvaluator(labelCol = \"label\",predictionCol=\"prediction\")\n",
    "\n",
    "rf_accuracy = rf_evaluator.evaluate(rf_predict, {rf_evaluator.metricName: \"accuracy\"})\n",
    "rf_f1score = rf_evaluator.evaluate(rf_predict, {rf_evaluator.metricName: \"f1\"})\n",
    "\n",
    "\n",
    "print('Random Forest Metrics:')\n",
    "print('Accuracy: {}'.format(rf_accuracy))\n",
    "print('F-1 Score:{}'.format(rf_f1score))\n",
    "\n",
    "pd_ml_results['RandomForest'] = [rf_accuracy,rf_f1score]"
   ]
  },
  {
   "cell_type": "markdown",
   "metadata": {},
   "source": [
    "# Final Results - Evaluation Metrics "
   ]
  },
  {
   "cell_type": "code",
   "execution_count": 44,
   "metadata": {},
   "outputs": [
    {
     "data": {
      "text/html": [
       "<div>\n",
       "<style scoped>\n",
       "    .dataframe tbody tr th:only-of-type {\n",
       "        vertical-align: middle;\n",
       "    }\n",
       "\n",
       "    .dataframe tbody tr th {\n",
       "        vertical-align: top;\n",
       "    }\n",
       "\n",
       "    .dataframe thead th {\n",
       "        text-align: right;\n",
       "    }\n",
       "</style>\n",
       "<table border=\"1\" class=\"dataframe\">\n",
       "  <thead>\n",
       "    <tr style=\"text-align: right;\">\n",
       "      <th></th>\n",
       "      <th>Evaluations</th>\n",
       "      <th>LogisticRegression</th>\n",
       "      <th>GradientBoostedTrees</th>\n",
       "      <th>SupportVectorMachine(SVM)</th>\n",
       "      <th>RandomForest</th>\n",
       "    </tr>\n",
       "  </thead>\n",
       "  <tbody>\n",
       "    <tr>\n",
       "      <th>0</th>\n",
       "      <td>Accuracy</td>\n",
       "      <td>0.750000</td>\n",
       "      <td>0.775000</td>\n",
       "      <td>0.82500</td>\n",
       "      <td>0.775000</td>\n",
       "    </tr>\n",
       "    <tr>\n",
       "      <th>1</th>\n",
       "      <td>F1_Score</td>\n",
       "      <td>0.707143</td>\n",
       "      <td>0.768025</td>\n",
       "      <td>0.74589</td>\n",
       "      <td>0.720423</td>\n",
       "    </tr>\n",
       "  </tbody>\n",
       "</table>\n",
       "</div>"
      ],
      "text/plain": [
       "  Evaluations  LogisticRegression  GradientBoostedTrees  \\\n",
       "0    Accuracy            0.750000              0.775000   \n",
       "1    F1_Score            0.707143              0.768025   \n",
       "\n",
       "   SupportVectorMachine(SVM)  RandomForest  \n",
       "0                    0.82500      0.775000  \n",
       "1                    0.74589      0.720423  "
      ]
     },
     "execution_count": 44,
     "metadata": {},
     "output_type": "execute_result"
    }
   ],
   "source": [
    "pd_ml_results"
   ]
  },
  {
   "cell_type": "markdown",
   "metadata": {},
   "source": [
    "Based on results above, the Gradient Boosted Trees Classification model is the best model which has the highest F1 Score of 0.77."
   ]
  },
  {
   "cell_type": "markdown",
   "metadata": {},
   "source": [
    "# Final Steps\n",
    "Clean up your code, adding comments and renaming variables to make the code easier to read and maintain. Refer to the Spark Project Overview page and Data Scientist Capstone Project Rubric to make sure you are including all components of the capstone project and meet all expectations. Remember, this includes thorough documentation in a README file in a Github repository, as well as a web app or blog post."
   ]
  },
  {
   "cell_type": "code",
   "execution_count": 2,
   "metadata": {},
   "outputs": [
    {
     "data": {
      "text/plain": [
       "['[NbConvertApp] Converting notebook Sparkify.ipynb to html',\n",
       " '[NbConvertApp] Writing 571899 bytes to Sparkify.html',\n",
       " '[NbConvertApp] Converting notebook Sparkify-zh.ipynb to html',\n",
       " '[NbConvertApp] Writing 279513 bytes to Sparkify-zh.html']"
      ]
     },
     "execution_count": 2,
     "metadata": {},
     "output_type": "execute_result"
    }
   ],
   "source": [
    "!!jupyter nbconvert *.ipynb"
   ]
  }
 ],
 "metadata": {
  "kernelspec": {
   "display_name": "Python 3",
   "language": "python",
   "name": "python3"
  },
  "language_info": {
   "codemirror_mode": {
    "name": "ipython",
    "version": 3
   },
   "file_extension": ".py",
   "mimetype": "text/x-python",
   "name": "python",
   "nbconvert_exporter": "python",
   "pygments_lexer": "ipython3",
   "version": "3.6.3"
  }
 },
 "nbformat": 4,
 "nbformat_minor": 2
}
